{
  "nbformat": 4,
  "nbformat_minor": 0,
  "metadata": {
    "colab": {
      "name": "homework04.ipynb",
      "provenance": [],
      "include_colab_link": true
    },
    "kernelspec": {
      "name": "python3",
      "display_name": "Python 3"
    }
  },
  "cells": [
    {
      "cell_type": "markdown",
      "metadata": {
        "id": "view-in-github",
        "colab_type": "text"
      },
      "source": [
        "<a href=\"https://colab.research.google.com/github/zengh100/Buiild-tensorflow-gpu-from-source-on-Ubuntu-18.04/blob/master/homework/004/homework04.ipynb\" target=\"_parent\"><img src=\"https://colab.research.google.com/assets/colab-badge.svg\" alt=\"Open In Colab\"/></a>"
      ]
    },
    {
      "cell_type": "code",
      "metadata": {
        "id": "bvMq0ROcPV2Y",
        "colab_type": "code",
        "colab": {}
      },
      "source": [
        "# sum up numbers between [1, 5] including 5 \n",
        "start = ?\n",
        "stop = ?\n",
        "step = ?\n",
        "# print \n",
        "print(list(range(start,stop,step)))\n",
        "\n",
        "total = 0\n",
        "for i in range(1, 5):\n",
        "  total = total + i\n",
        "  print(i, total)\n",
        "print(i, total)"
      ],
      "execution_count": 0,
      "outputs": []
    },
    {
      "cell_type": "code",
      "metadata": {
        "id": "ssy3TsBIPjpi",
        "colab_type": "code",
        "colab": {}
      },
      "source": [
        "# sum up numbers between [1, 99] that are multiple of 5 \n",
        "# start = 1\n",
        "# stop = 100\n",
        "# step = 1\n",
        "# print(list(range(start,stop,step)))\n",
        "\n",
        "total = 0\n",
        "for i in range(1, 5):\n",
        "  total = total + i\n",
        "  print(i, total)\n",
        "print(i, total)"
      ],
      "execution_count": 0,
      "outputs": []
    }
  ]
}